{
 "cells": [
  {
   "cell_type": "code",
   "execution_count": 1,
   "id": "9a57300a",
   "metadata": {},
   "outputs": [],
   "source": [
    "import numpy as np"
   ]
  },
  {
   "cell_type": "code",
   "execution_count": 2,
   "id": "ec5637cb",
   "metadata": {},
   "outputs": [],
   "source": [
    "def calculate(list):\n",
    "  if len(list) != 9:\n",
    "    raise ValueError(\"List must contain nine numbers.\")\n",
    "  array = np.array(list).reshape((3, 3))\n",
    "  calculo = {\n",
    "    \"mean\": [\n",
    "      np.mean(array, axis = 0).tolist(),\n",
    "      np.mean(array, axis = 1).tolist(),\n",
    "      np.mean(array.tolist())\n",
    "    ],\n",
    "    \"variance\": [\n",
    "      np.var(array, axis = 0).tolist(),\n",
    "      np.var(array, axis = 1).tolist(),\n",
    "      np.var(array) .tolist()    \n",
    "    ],\n",
    "    \"standard deviation\": [\n",
    "      np.std(array, axis = 0).tolist(),\n",
    "      np.std(array, axis = 1).tolist(),\n",
    "      np.std(array).tolist()     \n",
    "    ],    \n",
    "  }\n",
    "\n",
    "  return calculo"
   ]
  },
  {
   "cell_type": "code",
   "execution_count": 3,
   "id": "e741471b",
   "metadata": {},
   "outputs": [
    {
     "data": {
      "text/plain": [
       "{'mean': [[4.0, 5.0, 6.0], [2.0, 5.0, 8.0], 5.0],\n",
       " 'variance': [[6.0, 6.0, 6.0],\n",
       "  [0.6666666666666666, 0.6666666666666666, 0.6666666666666666],\n",
       "  6.666666666666667],\n",
       " 'standard deviation': [[2.449489742783178,\n",
       "   2.449489742783178,\n",
       "   2.449489742783178],\n",
       "  [0.816496580927726, 0.816496580927726, 0.816496580927726],\n",
       "  2.581988897471611]}"
      ]
     },
     "execution_count": 3,
     "metadata": {},
     "output_type": "execute_result"
    }
   ],
   "source": [
    "lista= [1,2,3,4,5,6,7,8,9]\n",
    "calculate (lista)"
   ]
  },
  {
   "cell_type": "code",
   "execution_count": null,
   "id": "18400593",
   "metadata": {},
   "outputs": [],
   "source": []
  }
 ],
 "metadata": {
  "kernelspec": {
   "display_name": "Python 3 (ipykernel)",
   "language": "python",
   "name": "python3"
  },
  "language_info": {
   "codemirror_mode": {
    "name": "ipython",
    "version": 3
   },
   "file_extension": ".py",
   "mimetype": "text/x-python",
   "name": "python",
   "nbconvert_exporter": "python",
   "pygments_lexer": "ipython3",
   "version": "3.9.12"
  }
 },
 "nbformat": 4,
 "nbformat_minor": 5
}
